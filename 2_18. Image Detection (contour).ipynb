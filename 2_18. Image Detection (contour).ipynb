{
 "cells": [
  {
   "cell_type": "markdown",
   "id": "a2cf1a9a",
   "metadata": {},
   "source": [
    "# 18. Image Detection (contour)"
   ]
  },
  {
   "cell_type": "code",
   "execution_count": 8,
   "id": "1f4c92ff",
   "metadata": {},
   "outputs": [],
   "source": [
    "import cv2\n",
    "img = cv2.imread('card.png')\n",
    "target_img = img.copy()\n",
    "\n",
    "gray = cv2.cvtColor(img, cv2.COLOR_BGR2GRAY)\n",
    "ret, otsu = cv2.threshold(gray, -1, 255, cv2.THRESH_BINARY | cv2.THRESH_OTSU)\n",
    "\n",
    "# contours, hierarchy = cv2.findContours(otsu, cv2.RETR_LIST, cv2.CHAIN_APPROX_NONE)\n",
    "# contours, hierarchy = cv2.findContours(otsu, cv2.RETR_EXTERNAL, cv2.CHAIN_APPROX_NONE)\n",
    "contours, hierarchy = cv2.findContours(otsu, cv2.RETR_TREE, cv2.CHAIN_APPROX_NONE)\n",
    "# print(hierarchy)\n",
    "# print(f'총 발견 갯수 : {len(contours)}')\n",
    "\n",
    "\n",
    "COLOR = (0, 200, 0)\n",
    "cv2.drawContours(target_img, contours, -1, COLOR, 2)\n",
    "\n",
    "cv2.imshow('img', img)\n",
    "cv2.imshow('gray', gray)\n",
    "cv2.imshow('otsu', otsu)\n",
    "cv2.imshow('contour', target_img)\n",
    "\n",
    "cv2.waitKey(0)\n",
    "cv2.destroyAllWindows()"
   ]
  },
  {
   "cell_type": "markdown",
   "id": "95abe5dd",
   "metadata": {},
   "source": [
    "## 경계 사각형\n",
    "윤곽선의 경계면을 둘러싸는 사각형\n",
    "> boundingRect()"
   ]
  },
  {
   "cell_type": "code",
   "execution_count": 11,
   "id": "62ce6edd",
   "metadata": {},
   "outputs": [],
   "source": [
    "import cv2\n",
    "img = cv2.imread('card.png')\n",
    "target_img = img.copy()\n",
    "\n",
    "gray = cv2.cvtColor(img, cv2.COLOR_BGR2GRAY)\n",
    "ret, otsu = cv2.threshold(gray, -1, 255, cv2.THRESH_BINARY | cv2.THRESH_OTSU)\n",
    "\n",
    "contours, hierarchy = cv2.findContours(otsu, cv2.RETR_LIST, cv2.CHAIN_APPROX_NONE)\n",
    "\n",
    "COLOR = (0, 200, 0)\n",
    "\n",
    "for cnt in contours:\n",
    "    x, y, width, height = cv2.boundingRect(cnt)\n",
    "    cv2.rectangle(target_img, (x, y), (x + width, y + height), COLOR, 2)\n",
    "\n",
    "cv2.imshow('img', img)\n",
    "cv2.imshow('gray', gray)\n",
    "cv2.imshow('otsu', otsu)\n",
    "cv2.imshow('contour', target_img)\n",
    "\n",
    "cv2.waitKey(0)\n",
    "cv2.destroyAllWindows()"
   ]
  },
  {
   "cell_type": "markdown",
   "id": "7edf8b25",
   "metadata": {},
   "source": [
    "## 면적\n",
    "> contourArea()"
   ]
  },
  {
   "cell_type": "code",
   "execution_count": 13,
   "id": "71c68954",
   "metadata": {},
   "outputs": [],
   "source": [
    "import cv2\n",
    "img = cv2.imread('card.png')\n",
    "target_img = img.copy()\n",
    "\n",
    "gray = cv2.cvtColor(img, cv2.COLOR_BGR2GRAY)\n",
    "ret, otsu = cv2.threshold(gray, -1, 255, cv2.THRESH_BINARY | cv2.THRESH_OTSU)\n",
    "\n",
    "contours, hierarchy = cv2.findContours(otsu, cv2.RETR_LIST, cv2.CHAIN_APPROX_NONE)\n",
    "\n",
    "COLOR = (0, 200, 0)\n",
    "\n",
    "for cnt in contours:\n",
    "    if cv2.contourArea(cnt) > 25000:\n",
    "        x, y, width, height = cv2.boundingRect(cnt)\n",
    "        cv2.rectangle(target_img, (x, y), (x + width, y + height), COLOR, 2)\n",
    "\n",
    "cv2.imshow('img', img)\n",
    "cv2.imshow('contour', target_img)\n",
    "\n",
    "cv2.waitKey(0)\n",
    "cv2.destroyAllWindows()"
   ]
  }
 ],
 "metadata": {
  "kernelspec": {
   "display_name": "Python 3 (ipykernel)",
   "language": "python",
   "name": "python3"
  },
  "language_info": {
   "codemirror_mode": {
    "name": "ipython",
    "version": 3
   },
   "file_extension": ".py",
   "mimetype": "text/x-python",
   "name": "python",
   "nbconvert_exporter": "python",
   "pygments_lexer": "ipython3",
   "version": "3.11.5"
  }
 },
 "nbformat": 4,
 "nbformat_minor": 5
}
