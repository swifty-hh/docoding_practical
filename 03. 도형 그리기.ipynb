{
 "cells": [
  {
   "cell_type": "markdown",
   "id": "922c7b65",
   "metadata": {},
   "source": [
    "# 3. 도형 그리기"
   ]
  },
  {
   "cell_type": "code",
   "execution_count": 6,
   "id": "23600654",
   "metadata": {},
   "outputs": [],
   "source": [
    "import cv2\n",
    "import numpy as np\n",
    "\n",
    "# 480 * 640, 3 channel (RGB) 에 해당하는 스케치북 만들기\n",
    "img = np.zeros((480, 640, 3), dtype = np.uint8)\n",
    "# print(img)\n",
    "#img[:] = (255, 255, 255) # BGR\n",
    "cv2.imshow('img', img)\n",
    "cv2.waitKey(0)\n",
    "cv2.destroyAllWindows()"
   ]
  },
  {
   "cell_type": "markdown",
   "id": "177cf24e",
   "metadata": {},
   "source": [
    "## 일부 영역 색칠"
   ]
  },
  {
   "cell_type": "code",
   "execution_count": 8,
   "id": "5edc5782",
   "metadata": {},
   "outputs": [],
   "source": [
    "import cv2\n",
    "import numpy as np\n",
    "\n",
    "img = np.zeros((480, 640, 3), dtype = np.uint8)\n",
    "img[100:200, 200:300] = (255, 255, 255)\n",
    "# [width, height]\n",
    "\n",
    "cv2.imshow('img', img)\n",
    "cv2.waitKey(0)\n",
    "cv2.destroyAllWindows()"
   ]
  },
  {
   "cell_type": "markdown",
   "id": "fe00a35a",
   "metadata": {},
   "source": [
    "## 직선\n",
    "직선의 종류 (line type)\n",
    "\n",
    "1. cv2.LINE_4 : 상하좌우 4 방향으로 연결된 선\n",
    "1. cv2.LINE_8 : 대각선을 포함한 8방향으로 연결된 선 (기본값)\n",
    "1. cv2.LINE_AA : 부드러운 선 (anti-aliasing)"
   ]
  },
  {
   "cell_type": "code",
   "execution_count": 15,
   "id": "93362952",
   "metadata": {},
   "outputs": [],
   "source": [
    "import cv2\n",
    "import numpy as np\n",
    "\n",
    "img = np.zeros((480, 640, 3), dtype = np.uint8)\n",
    "\n",
    "COLOR = (0, 255, 255)\n",
    "THICKNESS = 3\n",
    "\n",
    "cv2.line(img, (50, 100), (400, 50), COLOR, THICKNESS, cv2.LINE_8)\n",
    "cv2.line(img, (50, 200), (400, 150), COLOR, THICKNESS, cv2.LINE_4)\n",
    "cv2.line(img, (50, 300), (400, 250), COLOR, THICKNESS, cv2.LINE_AA)\n",
    "# postion of image, starting point, ending point, color, thickness, sort of line\n",
    "\n",
    "cv2.imshow('img', img)\n",
    "cv2.waitKey(0)\n",
    "cv2.destroyAllWindows()"
   ]
  },
  {
   "cell_type": "code",
   "execution_count": 18,
   "id": "a6c2d430",
   "metadata": {},
   "outputs": [],
   "source": [
    "import cv2\n",
    "import numpy as np\n",
    "\n",
    "img = np.zeros((480, 640, 3), dtype = np.uint8)\n",
    "\n",
    "COLOR = (255, 255, 0)\n",
    "RADIUS = 50\n",
    "THICKNESS = 10\n",
    "\n",
    "cv2.circle(img, (400, 100), RADIUS, COLOR, cv2.FILLED, cv2.LINE_AA)\n",
    "cv2.circle(img, (200, 300), RADIUS, COLOR, THICKNESS, cv2.LINE_AA)\n",
    "# postion of image, center of circle, radius, color, thickness, sort of line\n",
    "\n",
    "cv2.imshow('img', img)\n",
    "cv2.waitKey(0)\n",
    "cv2.destroyAllWindows()"
   ]
  },
  {
   "cell_type": "markdown",
   "id": "e4afa1e5",
   "metadata": {},
   "source": [
    "## 사각형"
   ]
  },
  {
   "cell_type": "code",
   "execution_count": 28,
   "id": "346aadf3",
   "metadata": {},
   "outputs": [],
   "source": [
    "import cv2\n",
    "import numpy as np\n",
    "\n",
    "img = np.zeros((480, 640, 3), dtype = np.uint8)\n",
    "\n",
    "COLOR = (0, 255, 0)\n",
    "THICKNESS = 10\n",
    "\n",
    "cv2.rectangle(img, (100,100), (200,200), COLOR, THICKNESS)\n",
    "cv2.rectangle(img, (300,300), (400,400), COLOR, cv2.FILLED)\n",
    "\n",
    "cv2.imshow('img', img)\n",
    "cv2.waitKey(0)\n",
    "cv2.destroyAllWindows()"
   ]
  },
  {
   "cell_type": "markdown",
   "id": "489ffe25",
   "metadata": {},
   "source": [
    "## 다각형"
   ]
  },
  {
   "cell_type": "code",
   "execution_count": 53,
   "id": "103bd90f",
   "metadata": {},
   "outputs": [],
   "source": [
    "import cv2\n",
    "import numpy as np\n",
    "\n",
    "img = np.zeros((480, 640, 3), dtype = np.uint8)\n",
    "\n",
    "COLOR = (0, 0, 255)\n",
    "THICKNESS = 3\n",
    "\n",
    "pts1 = np.array([[100, 100], [200, 100], [100, 200], [300, 400]])\n",
    "pts2 = np.array([[200, 50], [300, 80], [200, 200], [340, 490]])\n",
    "cv2.polylines(img, [pts1, pts2], True, COLOR, THICKNESS, cv2.LINE_AA)\n",
    "\n",
    "pts3 = np.array([[[500, 50], [500, 80], [100, 200], [540, 490], [150, 512], [123, 321]]])\n",
    "cv2.fillPoly(img, pts3, COLOR, cv2.LINE_AA)\n",
    "\n",
    "cv2.imshow('img', img)\n",
    "cv2.waitKey(0)\n",
    "cv2.destroyAllWindows()"
   ]
  }
 ],
 "metadata": {
  "kernelspec": {
   "display_name": "Python 3 (ipykernel)",
   "language": "python",
   "name": "python3"
  },
  "language_info": {
   "codemirror_mode": {
    "name": "ipython",
    "version": 3
   },
   "file_extension": ".py",
   "mimetype": "text/x-python",
   "name": "python",
   "nbconvert_exporter": "python",
   "pygments_lexer": "ipython3",
   "version": "3.11.5"
  }
 },
 "nbformat": 4,
 "nbformat_minor": 5
}
