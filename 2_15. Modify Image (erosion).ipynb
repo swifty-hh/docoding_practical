{
 "cells": [
  {
   "cell_type": "markdown",
   "id": "176d2395",
   "metadata": {},
   "source": [
    "# 15. Modify Image (erosion)"
   ]
  },
  {
   "cell_type": "markdown",
   "id": "43f8756a",
   "metadata": {},
   "source": [
    "## 이미즈를 깎아서 노이즈 제거\n",
    "흰색 영역의 외곽 픽셀을 검은색으로 변경"
   ]
  },
  {
   "cell_type": "code",
   "execution_count": 2,
   "id": "b26daf27",
   "metadata": {},
   "outputs": [],
   "source": [
    "import cv2\n",
    "import numpy as np\n",
    "\n",
    "kernel = np.ones((3, 3), dtype=np.uint8)\n",
    "\n",
    "img = cv2.imread('erode.png', cv2.IMREAD_GRAYSCALE)\n",
    "erode1 =cv2.erode(img, kernel, iterations=1) # 반복 횟수\n",
    "erode2 =cv2.erode(img, kernel, iterations=2)\n",
    "erode3 =cv2.erode(img, kernel, iterations=3)\n",
    "erode4 =cv2.erode(img, kernel, iterations=4)\n",
    "\n",
    "cv2.imshow('gray', img)\n",
    "cv2.imshow('erode1', erode1)\n",
    "cv2.imshow('erode2', erode2)\n",
    "cv2.imshow('erode3', erode3)\n",
    "cv2.imshow('erode4', erode4)\n",
    "cv2.waitKey(0)\n",
    "cv2.destroyAllWindows()"
   ]
  }
 ],
 "metadata": {
  "kernelspec": {
   "display_name": "Python 3 (ipykernel)",
   "language": "python",
   "name": "python3"
  },
  "language_info": {
   "codemirror_mode": {
    "name": "ipython",
    "version": 3
   },
   "file_extension": ".py",
   "mimetype": "text/x-python",
   "name": "python",
   "nbconvert_exporter": "python",
   "pygments_lexer": "ipython3",
   "version": "3.11.5"
  }
 },
 "nbformat": 4,
 "nbformat_minor": 5
}
